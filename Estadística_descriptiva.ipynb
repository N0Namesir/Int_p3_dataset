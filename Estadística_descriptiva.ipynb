{
 "cells": [
  {
   "cell_type": "code",
   "execution_count": null,
   "id": "466dc7e2",
   "metadata": {},
   "outputs": [],
   "source": [
    "import pandas as pd\n",
    "import numpy as np"
   ]
  },
  {
   "cell_type": "code",
   "execution_count": null,
   "id": "d324f306",
   "metadata": {},
   "outputs": [],
   "source": [
    "datos = pd.read_csv('archivo.csv')  # O pd.DataFrame({...})"
   ]
  },
  {
   "cell_type": "code",
   "execution_count": null,
   "id": "f8e4f9c5",
   "metadata": {},
   "outputs": [],
   "source": [
    "datos.describe()  # Media, percentiles, desviación estándar, etc. (solo numéricos)\n",
    "datos.describe(include='all')  # Incluye variables categóricas"
   ]
  },
  {
   "cell_type": "code",
   "execution_count": null,
   "id": "8371db10",
   "metadata": {},
   "outputs": [],
   "source": [
    "# Tendencia central\n",
    "datos.mean()   # Media\n",
    "datos.median() # Mediana\n",
    "datos.mode()   # Moda\n",
    "\n",
    "# Dispersión\n",
    "datos.std()    # Desviación estándar\n",
    "datos.var()    # Varianza\n",
    "datos.max() - datos.min()  # Rango\n",
    "\n",
    "# Forma de la distribución\n",
    "datos.skew()   # Asimetría\n",
    "datos.kurtosis() # Curtosis"
   ]
  },
  {
   "cell_type": "code",
   "execution_count": null,
   "id": "841deece",
   "metadata": {},
   "outputs": [],
   "source": [
    "datos['columna_categorica'].value_counts()  # Frecuencia de categorías\n",
    "datos['columna_categorica'].value_counts(normalize=True)  # Proporciones"
   ]
  }
 ],
 "metadata": {
  "kernelspec": {
   "display_name": "base",
   "language": "python",
   "name": "python3"
  },
  "language_info": {
   "codemirror_mode": {
    "name": "ipython",
    "version": 3
   },
   "file_extension": ".py",
   "mimetype": "text/x-python",
   "name": "python",
   "nbconvert_exporter": "python",
   "pygments_lexer": "ipython3",
   "version": "3.12.7"
  }
 },
 "nbformat": 4,
 "nbformat_minor": 5
}
